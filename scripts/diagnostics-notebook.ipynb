{
 "metadata": {
  "name": "",
  "signature": "sha256:70d41606a2a4cc47a7a4a2e6155b15f04d615d7db130eac9a5f5ae1cac49c8a1"
 },
 "nbformat": 3,
 "nbformat_minor": 0,
 "worksheets": [
  {
   "cells": [
    {
     "cell_type": "markdown",
     "metadata": {},
     "source": [
      "## Overview\n",
      "This notebook gives a look at the \"closure\" of the C cycle for `dvmdostem`.\n",
      "\n",
      "The idea is to run the model for a short period of time and then check the model-outputs to make sure that the ecosystem-wide C stock's change from time step to time-step (\"delta C\") is the same as the net ecosystem C flux.\n",
      "\n",
      "## Code\n",
      "First, import a bunch of libraries:"
     ]
    },
    {
     "cell_type": "code",
     "collapsed": false,
     "input": [
      "import matplotlib.pyplot as plt\n",
      "import numpy as np\n",
      "import textwrap"
     ],
     "language": "python",
     "metadata": {},
     "outputs": []
    },
    {
     "cell_type": "code",
     "collapsed": false,
     "input": [
      "%load_ext autoreload\n",
      "%autoreload 2"
     ],
     "language": "python",
     "metadata": {},
     "outputs": []
    },
    {
     "cell_type": "markdown",
     "metadata": {},
     "source": [
      "Next, setup some functions that can compile the numbers we are interested in from a json object. The json object will come from loading the json files that `dvmdostem` produces when running with the `--cal-mode` flag."
     ]
    },
    {
     "cell_type": "code",
     "collapsed": false,
     "input": [
      "import diagnostics"
     ],
     "language": "python",
     "metadata": {},
     "outputs": []
    },
    {
     "cell_type": "code",
     "collapsed": false,
     "input": [
      "#print diagnostics.compile_table_by_year('C_veg_balance', fileslice='-15::')"
     ],
     "language": "python",
     "metadata": {},
     "outputs": []
    },
    {
     "cell_type": "code",
     "collapsed": false,
     "input": [
      "tl = sorted([\n",
      "         'N_soil_balance',\n",
      "#         'N_veg_balance',\n",
      "         'C_soil_balance',\n",
      "#         'C_veg_balance',\n",
      "#         'C_veg_vascular_balance',\n",
      "#         'C_veg_nonvascular_balance',\n",
      "#         'report_soil_C'\n",
      "])\n",
      "\n",
      "diagnostics.run_tests(tl, p2c=True, fileslice=':100:')"
     ],
     "language": "python",
     "metadata": {},
     "outputs": []
    },
    {
     "cell_type": "code",
     "collapsed": false,
     "input": [
      "diagnostics.run_tests(['N_veg_balance'],p2c=True)"
     ],
     "language": "python",
     "metadata": {},
     "outputs": []
    },
    {
     "cell_type": "code",
     "collapsed": false,
     "input": [],
     "language": "python",
     "metadata": {},
     "outputs": []
    },
    {
     "cell_type": "code",
     "collapsed": false,
     "input": [
      "#!cat ../config/calibration_directives.txt\n",
      "#!cd .. && ./dvmdostem -l fatal -c -p 10\n",
      "\n",
      "diagnostics.run_tests(['C_veg_balance',], p2c=True)"
     ],
     "language": "python",
     "metadata": {},
     "outputs": []
    },
    {
     "cell_type": "code",
     "collapsed": false,
     "input": [
      "diagnostics.plot_tests([\n",
      "#'N_soil_balance',\n",
      "#        'N_veg_balance',\n",
      "      #  'C_soil_balance',\n",
      "      #  'C_veg_balance',\n",
      "#        'C_veg_vascular_balance',\n",
      "#        'C_veg_nonvascular_balance',\n",
      "        ])\n"
     ],
     "language": "python",
     "metadata": {},
     "outputs": []
    },
    {
     "cell_type": "code",
     "collapsed": false,
     "input": [],
     "language": "python",
     "metadata": {},
     "outputs": []
    },
    {
     "cell_type": "code",
     "collapsed": false,
     "input": [],
     "language": "python",
     "metadata": {},
     "outputs": []
    },
    {
     "cell_type": "code",
     "collapsed": false,
     "input": [],
     "language": "python",
     "metadata": {},
     "outputs": []
    },
    {
     "cell_type": "code",
     "collapsed": false,
     "input": [],
     "language": "python",
     "metadata": {},
     "outputs": []
    },
    {
     "cell_type": "code",
     "collapsed": false,
     "input": [],
     "language": "python",
     "metadata": {},
     "outputs": []
    },
    {
     "cell_type": "code",
     "collapsed": false,
     "input": [],
     "language": "python",
     "metadata": {},
     "outputs": []
    },
    {
     "cell_type": "markdown",
     "metadata": {},
     "source": [
      "Now we have all the tools in place to perform a model run and look at a quick summary of the C cycle.\n",
      "\n",
      "For this experiment, we want to compare how things look with different modules on or off. We can control the module state using the \"calibration_directives.txt\" file. So our process will look like this:\n",
      "\n",
      "- Create calibration_directives file with module settings.\n",
      "- Run the model (controlled by the directives file.\n",
      "- Anylyze the json files to get the C cycle report.\n",
      "- Compare the reports from model runs with different module on/off states.\n",
      "\n",
      "First we make a convenience wrapper for writing a calibration directives file, then run 3 different tests."
     ]
    },
    {
     "cell_type": "code",
     "collapsed": false,
     "input": [
      "def write_cal_directives(s):\n",
      "    with open (\"../config/calibration_directives.txt\", 'w') as f:\n",
      "        f.write(s)"
     ],
     "language": "python",
     "metadata": {},
     "outputs": []
    },
    {
     "cell_type": "code",
     "collapsed": false,
     "input": [
      "write_cal_directives(textwrap.dedent('''\\\n",
      "    {\n",
      "      \"calibration_autorun_settings\": {\n",
      "        \"pwup\": false,\n",
      "        \"quitat\": 15\n",
      "      }\n",
      "    }\n",
      "'''))\n",
      "!cd ../ && ./dvmdostem --log-level fatal --cal-mode --pre-run-yrs 10\n",
      "run_tests(['C_veg_balance', 'C_soil_balance','report_soil_C'], w2f=\"nfeedON-dslON/C_report.txt\")\n",
      "#!cd ../ && ./scripts/bulk-plot.sh --numpfts 7 --parallel --outdir \"scripts/all-modules-on\" --tag test0"
     ],
     "language": "python",
     "metadata": {},
     "outputs": []
    },
    {
     "cell_type": "code",
     "collapsed": false,
     "input": [],
     "language": "python",
     "metadata": {},
     "outputs": []
    },
    {
     "cell_type": "code",
     "collapsed": false,
     "input": [
      "write_cal_directives(textwrap.dedent('''\\\n",
      "    {\n",
      "      \"calibration_autorun_settings\": {\n",
      "        \"0\": [\"nfeed off\", \"dsl off\"],\n",
      "        \"pwup\": false,\n",
      "        \"quitat\": 15\n",
      "      }\n",
      "    }\n",
      "'''))\n",
      "!cat ../config/calibration_directives.txt\n",
      "!cd ../ && ./dvmdostem --log-level fatal --cal-mode --pre-run-yrs 10\n",
      "run_tests(['C_veg_balance', 'C_soil_balance','report_soil_C'], w2f=\"nfeedOFF-dslOFF/C_report.txt\")\n",
      "#!cd ../ && ./scripts/bulk-plot.sh --numpfts 7 --parallel --outdir scripts/nfeedoff-dsloff --tag test1"
     ],
     "language": "python",
     "metadata": {},
     "outputs": []
    },
    {
     "cell_type": "code",
     "collapsed": false,
     "input": [],
     "language": "python",
     "metadata": {},
     "outputs": []
    },
    {
     "cell_type": "code",
     "collapsed": false,
     "input": [
      "write_cal_directives(textwrap.dedent('''\\\n",
      "    {\n",
      "      \"calibration_autorun_settings\": {\n",
      "        \"0\": [\"nfeed on\", \"dsl off\"],\n",
      "        \"pwup\": false,\n",
      "        \"quitat\": 15\n",
      "      }\n",
      "    }\n",
      "'''))\n",
      "!cat ../config/calibration_directives.txt\n",
      "!cd ../ && ./dvmdostem --log-level fatal --cal-mode --pre-run-yrs 10\n",
      "run_tests(['C_veg_balance', 'C_soil_balance','report_soil_C'], w2f=\"nfeedON-dslOFF/C_report.txt\")\n",
      "#!cd ../ && ./scripts/bulk-plot.sh --numpfts 7 --parallel --outdir scripts/nfeedON-dsloff --tag test1"
     ],
     "language": "python",
     "metadata": {},
     "outputs": []
    },
    {
     "cell_type": "code",
     "collapsed": false,
     "input": [
      "write_cal_directives(textwrap.dedent('''\\\n",
      "    {\n",
      "      \"calibration_autorun_settings\": {\n",
      "        \"0\": [\"nfeed off\", \"dsl on\"],\n",
      "        \"pwup\": false,\n",
      "        \"quitat\": 15\n",
      "      }\n",
      "    }\n",
      "'''))\n",
      "!cd ../ && ./dvmdostem --log-level fatal --cal-mode --pre-run-yrs 10\n",
      "run_tests(['C_veg_balance', 'C_soil_balance','report_soil_C'], w2f=\"nfeedOFF-dslON/report.txt\")\n",
      "#!cd ../ && ./scripts/bulk-plot.sh --numpfts 7 --parallel --outdir scripts/nfeedoff-dslON --tag test1"
     ],
     "language": "python",
     "metadata": {},
     "outputs": []
    },
    {
     "cell_type": "code",
     "collapsed": false,
     "input": [],
     "language": "python",
     "metadata": {},
     "outputs": []
    },
    {
     "cell_type": "code",
     "collapsed": false,
     "input": [],
     "language": "python",
     "metadata": {},
     "outputs": []
    },
    {
     "cell_type": "code",
     "collapsed": false,
     "input": [],
     "language": "python",
     "metadata": {},
     "outputs": []
    },
    {
     "cell_type": "code",
     "collapsed": false,
     "input": [],
     "language": "python",
     "metadata": {},
     "outputs": []
    },
    {
     "cell_type": "code",
     "collapsed": false,
     "input": [],
     "language": "python",
     "metadata": {},
     "outputs": []
    },
    {
     "cell_type": "code",
     "collapsed": false,
     "input": [],
     "language": "python",
     "metadata": {},
     "outputs": []
    },
    {
     "cell_type": "code",
     "collapsed": false,
     "input": [],
     "language": "python",
     "metadata": {},
     "outputs": []
    },
    {
     "cell_type": "code",
     "collapsed": false,
     "input": [],
     "language": "python",
     "metadata": {},
     "outputs": []
    },
    {
     "cell_type": "code",
     "collapsed": false,
     "input": [],
     "language": "python",
     "metadata": {},
     "outputs": []
    }
   ],
   "metadata": {}
  }
 ]
}